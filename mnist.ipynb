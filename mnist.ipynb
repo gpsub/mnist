{
  "nbformat": 4,
  "nbformat_minor": 0,
  "metadata": {
    "colab": {
      "name": "mnist.ipynb",
      "provenance": [],
      "collapsed_sections": []
    },
    "kernelspec": {
      "name": "python3",
      "display_name": "Python 3"
    },
    "accelerator": "GPU"
  },
  "cells": [
    {
      "cell_type": "code",
      "metadata": {
        "id": "FUGTiQdLz2m6",
        "outputId": "b0ac75e0-b71e-458e-af42-ccc95eae84c4",
        "colab": {
          "base_uri": "https://localhost:8080/",
          "height": 34
        }
      },
      "source": [
        "import numpy as np\n",
        "import pandas as pd\n",
        "import matplotlib.pyplot as plt\n",
        "import keras\n",
        "from keras import layers\n",
        "from keras import models\n",
        " \n",
        "from keras.models import Sequential\n",
        "from keras.layers import Dense, Activation, Dropout, Flatten, Conv2D, MaxPooling2D\n",
        "from keras.layers.normalization import BatchNormalization\n",
        "from keras.datasets import mnist\n",
        "from keras import utils"
      ],
      "execution_count": null,
      "outputs": [
        {
          "output_type": "stream",
          "text": [
            "Using TensorFlow backend.\n"
          ],
          "name": "stderr"
        }
      ]
    },
    {
      "cell_type": "code",
      "metadata": {
        "id": "gvJJVPDpz1fl",
        "outputId": "f7144929-6d4e-4908-ef3c-380ffc4683a5",
        "colab": {
          "base_uri": "https://localhost:8080/",
          "height": 50
        }
      },
      "source": [
        "(x_train, y_train), (x_test, y_test)=mnist.load_data(\n",
        "    path='mnist.npz'\n",
        ")"
      ],
      "execution_count": null,
      "outputs": [
        {
          "output_type": "stream",
          "text": [
            "Downloading data from https://s3.amazonaws.com/img-datasets/mnist.npz\n",
            "11493376/11490434 [==============================] - 1s 0us/step\n"
          ],
          "name": "stdout"
        }
      ]
    },
    {
      "cell_type": "code",
      "metadata": {
        "id": "NeecZvh31TvB",
        "outputId": "bee2f147-aa8b-4285-d21b-70b3bec112d2",
        "colab": {
          "base_uri": "https://localhost:8080/",
          "height": 34
        }
      },
      "source": [
        "x_train.shape"
      ],
      "execution_count": null,
      "outputs": [
        {
          "output_type": "execute_result",
          "data": {
            "text/plain": [
              "(60000, 28, 28)"
            ]
          },
          "metadata": {
            "tags": []
          },
          "execution_count": 3
        }
      ]
    },
    {
      "cell_type": "code",
      "metadata": {
        "id": "2ZipPH5Q1tXW"
      },
      "source": [
        "model = Sequential()\n",
        "model.add(layers.InputLayer(input_shape=(28,28,1)))\n"
      ],
      "execution_count": null,
      "outputs": []
    },
    {
      "cell_type": "code",
      "metadata": {
        "id": "YJTR6YJ5O6pG"
      },
      "source": [
        "model.add(Conv2D(32,kernel_size=3,activation='relu' ))\n",
        "\n",
        "model.add(MaxPooling2D(2,2))\n",
        "#model.add(Dropout(0.2))"
      ],
      "execution_count": null,
      "outputs": []
    },
    {
      "cell_type": "code",
      "metadata": {
        "id": "Awad9Q4tbvz1"
      },
      "source": [
        "model.add(Conv2D(64,kernel_size=3,activation='relu'))\n",
        "model.add(MaxPooling2D(2,2))\n",
        "#model.add(Dropout(0.2))\n",
        "model.add(Flatten())\n",
        "model.add(Dense(1600))\n",
        "model.add(Dense(10,activation='softmax'))\n"
      ],
      "execution_count": null,
      "outputs": []
    },
    {
      "cell_type": "code",
      "metadata": {
        "id": "xTtBsCp9cMsa",
        "outputId": "d91edd2e-0178-4605-f813-112a2b9a7b48",
        "colab": {
          "base_uri": "https://localhost:8080/",
          "height": 386
        }
      },
      "source": [
        "model.summary()"
      ],
      "execution_count": null,
      "outputs": [
        {
          "output_type": "stream",
          "text": [
            "Model: \"sequential_1\"\n",
            "_________________________________________________________________\n",
            "Layer (type)                 Output Shape              Param #   \n",
            "=================================================================\n",
            "conv2d_1 (Conv2D)            (None, 26, 26, 32)        320       \n",
            "_________________________________________________________________\n",
            "max_pooling2d_1 (MaxPooling2 (None, 13, 13, 32)        0         \n",
            "_________________________________________________________________\n",
            "conv2d_2 (Conv2D)            (None, 11, 11, 64)        18496     \n",
            "_________________________________________________________________\n",
            "max_pooling2d_2 (MaxPooling2 (None, 5, 5, 64)          0         \n",
            "_________________________________________________________________\n",
            "flatten_1 (Flatten)          (None, 1600)              0         \n",
            "_________________________________________________________________\n",
            "dense_1 (Dense)              (None, 1600)              2561600   \n",
            "_________________________________________________________________\n",
            "dense_2 (Dense)              (None, 10)                16010     \n",
            "=================================================================\n",
            "Total params: 2,596,426\n",
            "Trainable params: 2,596,426\n",
            "Non-trainable params: 0\n",
            "_________________________________________________________________\n"
          ],
          "name": "stdout"
        }
      ]
    },
    {
      "cell_type": "code",
      "metadata": {
        "id": "M1wUyO-KzdyQ",
        "outputId": "ba7eb09a-65cc-46a8-a865-4afe0dd68153",
        "colab": {
          "base_uri": "https://localhost:8080/",
          "height": 34
        }
      },
      "source": [
        "y_train=y_train.reshape(60000,1)\n",
        "y_test=y_test.reshape(10000,1)\n",
        "print(y_train.shape,y_test.shape)"
      ],
      "execution_count": null,
      "outputs": [
        {
          "output_type": "stream",
          "text": [
            "(60000, 1) (10000, 1)\n"
          ],
          "name": "stdout"
        }
      ]
    },
    {
      "cell_type": "code",
      "metadata": {
        "id": "RNJdTzeJcOck"
      },
      "source": [
        "y_train= utils.to_categorical(y_train)\n",
        "y_test = utils.to_categorical(y_test)"
      ],
      "execution_count": null,
      "outputs": []
    },
    {
      "cell_type": "code",
      "metadata": {
        "id": "Bv6XgymRda3m",
        "outputId": "8c5baf12-cb9d-4bd2-b683-e1946ecf3b53",
        "colab": {
          "base_uri": "https://localhost:8080/",
          "height": 874
        }
      },
      "source": [
        "model.compile(loss='categorical_crossentropy',optimizer='adam',metrics=['accuracy'])\n",
        "x_train = x_train.reshape(-1,28, 28, 1)   #Reshape for CNN -  should work!!\n",
        "x_test = x_test.reshape(-1,28, 28, 1)\n",
        "model.fit(x_train,y_train,epochs=25)\n"
      ],
      "execution_count": null,
      "outputs": [
        {
          "output_type": "stream",
          "text": [
            "Epoch 1/25\n",
            "60000/60000 [==============================] - 16s 259us/step - loss: 0.9525 - accuracy: 0.9209\n",
            "Epoch 2/25\n",
            "60000/60000 [==============================] - 9s 145us/step - loss: 0.1430 - accuracy: 0.9611\n",
            "Epoch 3/25\n",
            "60000/60000 [==============================] - 9s 145us/step - loss: 0.1007 - accuracy: 0.9715\n",
            "Epoch 4/25\n",
            "60000/60000 [==============================] - 9s 145us/step - loss: 0.1013 - accuracy: 0.9711\n",
            "Epoch 5/25\n",
            "60000/60000 [==============================] - 9s 145us/step - loss: 0.0915 - accuracy: 0.9732\n",
            "Epoch 6/25\n",
            "60000/60000 [==============================] - 9s 144us/step - loss: 0.0838 - accuracy: 0.9761\n",
            "Epoch 7/25\n",
            "60000/60000 [==============================] - 9s 145us/step - loss: 0.0776 - accuracy: 0.9787\n",
            "Epoch 8/25\n",
            "60000/60000 [==============================] - 9s 145us/step - loss: 0.0743 - accuracy: 0.9801\n",
            "Epoch 9/25\n",
            "60000/60000 [==============================] - 9s 143us/step - loss: 0.0676 - accuracy: 0.9808\n",
            "Epoch 10/25\n",
            "60000/60000 [==============================] - 9s 144us/step - loss: 0.0679 - accuracy: 0.9809\n",
            "Epoch 11/25\n",
            "60000/60000 [==============================] - 9s 145us/step - loss: 0.0665 - accuracy: 0.9826\n",
            "Epoch 12/25\n",
            "60000/60000 [==============================] - 9s 145us/step - loss: 0.0586 - accuracy: 0.9840\n",
            "Epoch 13/25\n",
            "60000/60000 [==============================] - 9s 143us/step - loss: 0.0614 - accuracy: 0.9839\n",
            "Epoch 14/25\n",
            "60000/60000 [==============================] - 9s 147us/step - loss: 0.0554 - accuracy: 0.9848\n",
            "Epoch 15/25\n",
            "60000/60000 [==============================] - 9s 144us/step - loss: 0.0602 - accuracy: 0.9851\n",
            "Epoch 16/25\n",
            "60000/60000 [==============================] - 9s 144us/step - loss: 0.0579 - accuracy: 0.9858\n",
            "Epoch 17/25\n",
            "60000/60000 [==============================] - 9s 145us/step - loss: 0.0627 - accuracy: 0.9857\n",
            "Epoch 18/25\n",
            "60000/60000 [==============================] - 9s 158us/step - loss: 0.0538 - accuracy: 0.9868\n",
            "Epoch 19/25\n",
            "60000/60000 [==============================] - 9s 148us/step - loss: 0.0545 - accuracy: 0.9867\n",
            "Epoch 20/25\n",
            "60000/60000 [==============================] - 9s 147us/step - loss: 0.0592 - accuracy: 0.9856\n",
            "Epoch 21/25\n",
            "60000/60000 [==============================] - 9s 153us/step - loss: 0.0533 - accuracy: 0.9878\n",
            "Epoch 22/25\n",
            "60000/60000 [==============================] - 9s 151us/step - loss: 0.0656 - accuracy: 0.9857\n",
            "Epoch 23/25\n",
            "60000/60000 [==============================] - 9s 146us/step - loss: 0.0603 - accuracy: 0.9868\n",
            "Epoch 24/25\n",
            "60000/60000 [==============================] - 9s 146us/step - loss: 0.0625 - accuracy: 0.9873\n",
            "Epoch 25/25\n",
            "60000/60000 [==============================] - 9s 147us/step - loss: 0.0582 - accuracy: 0.9879\n"
          ],
          "name": "stdout"
        },
        {
          "output_type": "execute_result",
          "data": {
            "text/plain": [
              "<keras.callbacks.callbacks.History at 0x7ff3c05cfe48>"
            ]
          },
          "metadata": {
            "tags": []
          },
          "execution_count": 10
        }
      ]
    },
    {
      "cell_type": "code",
      "metadata": {
        "id": "6yXaiCUeg9-B",
        "outputId": "f43f4de7-a175-4e74-e18a-05449c25ce9a",
        "colab": {
          "base_uri": "https://localhost:8080/",
          "height": 50
        }
      },
      "source": [
        "model.evaluate(x_test,y_test)"
      ],
      "execution_count": null,
      "outputs": [
        {
          "output_type": "stream",
          "text": [
            "10000/10000 [==============================] - 1s 63us/step\n"
          ],
          "name": "stdout"
        },
        {
          "output_type": "execute_result",
          "data": {
            "text/plain": [
              "[0.11689236553942635, 0.9797000288963318]"
            ]
          },
          "metadata": {
            "tags": []
          },
          "execution_count": 11
        }
      ]
    },
    {
      "cell_type": "code",
      "metadata": {
        "id": "sMHAgXODPmkP"
      },
      "source": [
        ""
      ],
      "execution_count": null,
      "outputs": []
    }
  ]
}